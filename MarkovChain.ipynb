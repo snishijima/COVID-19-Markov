{
  "nbformat": 4,
  "nbformat_minor": 0,
  "metadata": {
    "colab": {
      "name": "MarkovChain.ipynb",
      "provenance": [],
      "authorship_tag": "ABX9TyNeP6WJ+POz+NrRFz1bQt5N",
      "include_colab_link": true
    },
    "kernelspec": {
      "name": "python3",
      "display_name": "Python 3"
    },
    "language_info": {
      "name": "python"
    }
  },
  "cells": [
    {
      "cell_type": "markdown",
      "metadata": {
        "id": "view-in-github",
        "colab_type": "text"
      },
      "source": [
        "<a href=\"https://colab.research.google.com/github/snishijima/COVID-19-Markov/blob/main/MarkovChain.ipynb\" target=\"_parent\"><img src=\"https://colab.research.google.com/assets/colab-badge.svg\" alt=\"Open In Colab\"/></a>"
      ]
    },
    {
      "cell_type": "code",
      "metadata": {
        "id": "nbnr2YTfzatE"
      },
      "source": [
        "import numpy as np\n",
        "import random as rm"
      ],
      "execution_count": null,
      "outputs": []
    },
    {
      "cell_type": "code",
      "metadata": {
        "id": "9r5eMRdhz04A"
      },
      "source": [
        "# State space\n",
        "states = [\"Active\", \"Recovery\", \"Death\"]\n",
        "\n",
        "# Possible sequence of events\n",
        "transition_name = [[\"AA\", \"AR\", \"AD\"], [\"RA\", \"RR\", \"RD\"], [\"DA\", \"DR\", \"DD\"] ]\n",
        "\n",
        "# Probabilities Matrix\n",
        "transition_matrix = [[0.933, 0.0484, 0.0186], [0.6628, 0.2791, 0.0581], [0.4681, 0.1064, 0.4255]]"
      ],
      "execution_count": null,
      "outputs": []
    },
    {
      "cell_type": "code",
      "metadata": {
        "colab": {
          "base_uri": "https://localhost:8080/"
        },
        "id": "SM_owHTOp7ou",
        "outputId": "0fd94f91-dcf7-4dec-e83d-abbdacdab659"
      },
      "source": [
        "sum([sum(matrix) for matrix in transition_matrix])"
      ],
      "execution_count": null,
      "outputs": [
        {
          "output_type": "execute_result",
          "data": {
            "text/plain": [
              "3.0"
            ]
          },
          "metadata": {
            "tags": []
          },
          "execution_count": 4
        }
      ]
    },
    {
      "cell_type": "code",
      "metadata": {
        "colab": {
          "base_uri": "https://localhost:8080/"
        },
        "id": "z8I-umRG6Ftp",
        "outputId": "dff30de6-82ea-4afb-c702-b5481b0a0e1d"
      },
      "source": [
        "if sum(transition_matrix[0])+sum(transition_matrix[1])+sum(transition_matrix[1]) != 3:\n",
        "    print(\"Somewhere, something went wrong. Transition matrix, perhaps?\")\n",
        "else: \n",
        "    print(\"Good job homie ;)\")"
      ],
      "execution_count": null,
      "outputs": [
        {
          "output_type": "stream",
          "text": [
            "Good job homie ;)\n"
          ],
          "name": "stdout"
        }
      ]
    },
    {
      "cell_type": "code",
      "metadata": {
        "colab": {
          "base_uri": "https://localhost:8080/"
        },
        "id": "AHDh3rfV7FVB",
        "outputId": "b66b9e7b-faf9-4aaa-f295-dd6fff49e89b"
      },
      "source": [
        "# A function that implements the Markov model to forecast the state.\n",
        "def activity_forecast(days):\n",
        "    # Choose the starting state\n",
        "    activityToday = \"Active\"\n",
        "    print(\"Start state: \" + activityToday)\n",
        "    # Shall store the sequence of states taken. So, this only has the starting state for now.\n",
        "    activityList = [activityToday]\n",
        "    i = 0\n",
        "    # To calculate the probability of the activityList\n",
        "    prob = 1\n",
        "    while i != days:\n",
        "        if activityToday == \"Active\":\n",
        "            change = np.random.choice(transitionName[0],replace=True,p=transitionMatrix[0])\n",
        "            if change == \"AA\":\n",
        "                prob = prob * 0.2\n",
        "                activityList.append(\"Active\")\n",
        "                pass\n",
        "            elif change == \"AR\":\n",
        "                prob = prob * 0.6\n",
        "                activityToday = \"Recovery\"\n",
        "                activityList.append(\"Recovery\")\n",
        "            else:\n",
        "                prob = prob * 0.2\n",
        "                activityToday = \"Death\"\n",
        "                activityList.append(\"Death\")\n",
        "        elif activityToday == \"Recover\":\n",
        "            change = np.random.choice(transitionName[1],replace=True,p=transitionMatrix[1])\n",
        "            if change == \"RR\":\n",
        "                prob = prob * 0.5\n",
        "                activityList.append(\"Recovery\")\n",
        "                pass\n",
        "            elif change == \"RA\":\n",
        "                prob = prob * 0.2\n",
        "                activityToday = \"Active\"\n",
        "                activityList.append(\"Active\")\n",
        "            else:\n",
        "                prob = prob * 0.3\n",
        "                activityToday = \"Death\"\n",
        "                activityList.append(\"Death\")\n",
        "        elif activityToday == \"Death\":\n",
        "            change = np.random.choice(transitionName[2],replace=True,p=transitionMatrix[2])\n",
        "            if change == \"DD\":\n",
        "                prob = prob * 0.1\n",
        "                activityList.append(\"Death\")\n",
        "                pass\n",
        "            elif change == \"DA\":\n",
        "                prob = prob * 0.2\n",
        "                activityToday = \"Active\"\n",
        "                activityList.append(\"Active\")\n",
        "            else:\n",
        "                prob = prob * 0.7\n",
        "                activityToday = \"Recovery\"\n",
        "                activityList.append(\"Recovery\")\n",
        "        i += 1  \n",
        "    print(\"Possible states: \" + str(activityList))\n",
        "    print(\"End state after \"+ str(days) + \" days: \" + activityToday)\n",
        "    print(\"Probability of the possible sequence of states: \" + str(prob))\n",
        "\n",
        "# Function that forecasts the possible state for the next 2 days\n",
        "activity_forecast(2)"
      ],
      "execution_count": null,
      "outputs": [
        {
          "output_type": "stream",
          "text": [
            "Start state: Active\n",
            "Possible states: ['Active', 'Active', 'Active']\n",
            "End state after 2 days: Active\n",
            "Probability of the possible sequence of states: 0.04000000000000001\n"
          ],
          "name": "stdout"
        }
      ]
    },
    {
      "cell_type": "code",
      "metadata": {
        "colab": {
          "base_uri": "https://localhost:8080/"
        },
        "id": "s2_L01c39EQ0",
        "outputId": "e1b2cdbe-0a44-45bc-97e0-a40e96bc9ea6"
      },
      "source": [
        "def activity_forecast(days):\n",
        "    # Choose the starting state\n",
        "    activityToday = \"Active\"\n",
        "    activityList = [activityToday]\n",
        "    i = 0\n",
        "    prob = 1\n",
        "    while i != days:\n",
        "        if activityToday == \"Active\":\n",
        "            change = np.random.choice(transitionName[0],replace=True,p=transitionMatrix[0])\n",
        "            if change == \"AA\":\n",
        "                prob = prob * 0.2\n",
        "                activityList.append(\"Active\")\n",
        "                pass\n",
        "            elif change == \"AR\":\n",
        "                prob = prob * 0.6\n",
        "                activityToday = \"Recovery\"\n",
        "                activityList.append(\"Recovery\")\n",
        "            else:\n",
        "                prob = prob * 0.2\n",
        "                activityToday = \"Death\"\n",
        "                activityList.append(\"Death\")\n",
        "        elif activityToday == \"Recovery\":\n",
        "            change = np.random.choice(transitionName[1],replace=True,p=transitionMatrix[1])\n",
        "            if change == \"RR\":\n",
        "                prob = prob * 0.5\n",
        "                activityList.append(\"Recovery\")\n",
        "                pass\n",
        "            elif change == \"RA\":\n",
        "                prob = prob * 0.2\n",
        "                activityToday = \"Active\"\n",
        "                activityList.append(\"Active\")\n",
        "            else:\n",
        "                prob = prob * 0.3\n",
        "                activityToday = \"Death\"\n",
        "                activityList.append(\"Death\")\n",
        "        elif activityToday == \"Death\":\n",
        "            change = np.random.choice(transitionName[2],replace=True,p=transitionMatrix[2])\n",
        "            if change == \"DD\":\n",
        "                prob = prob * 0.1\n",
        "                activityList.append(\"Death\")\n",
        "                pass\n",
        "            elif change == \"DA\":\n",
        "                prob = prob * 0.2\n",
        "                activityToday = \"Active\"\n",
        "                activityList.append(\"Active\")\n",
        "            else:\n",
        "                prob = prob * 0.7\n",
        "                activityToday = \"Recovery\"\n",
        "                activityList.append(\"Recovery\")\n",
        "        i += 1    \n",
        "    return activityList\n",
        "\n",
        "# To save every activityList\n",
        "list_activity = []\n",
        "count = 0\n",
        "\n",
        "# `Range` starts from the first count up until but excluding the last count\n",
        "for iterations in range(1,10000):\n",
        "        list_activity.append(activity_forecast(2))\n",
        "\n",
        "# Check out all the `activityList` we collected    \n",
        "#print(list_activity)\n",
        "\n",
        "# Iterate through the list to get a count of all activities ending in state:'Recovery'\n",
        "for smaller_list in list_activity:\n",
        "    if(smaller_list[2] == \"Recovery\"):\n",
        "        count += 1\n",
        "\n",
        "# Calculate the probability of starting from state:'Active' and ending at state:'Recovery'\n",
        "percentage = (count/10000) * 100\n",
        "print(\"The probability of starting at state:'Active' and ending at state:'Recovery'= \" + str(percentage) + \"%\")"
      ],
      "execution_count": null,
      "outputs": [
        {
          "output_type": "stream",
          "text": [
            "The probability of starting at state:'Active' and ending at state:'Recovery'= 5.57%\n"
          ],
          "name": "stdout"
        }
      ]
    }
  ]
}